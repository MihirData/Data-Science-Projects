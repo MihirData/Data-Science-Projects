{
 "cells": [
  {
   "cell_type": "code",
   "execution_count": 1,
   "id": "ffea5ccd-7712-4163-8963-8afc47219320",
   "metadata": {},
   "outputs": [
    {
     "data": {
      "text/plain": [
       "'In this game, there is a list of movie names present, out of which our interpreter will choose 1 random movie.\\nThe user first has to input their guesses on the besis of given clues and then, will be asked to guess any alphabet. \\nIf the random movie contains that alphabet, it will be shown as the output(with correct placement) else the program will ask\\nyou to guess another alphabet. The user will be given 6 turns and total 3 clues on wrong guess to guess\\nthe complete word.'"
      ]
     },
     "execution_count": 1,
     "metadata": {},
     "output_type": "execute_result"
    }
   ],
   "source": [
    "'''In this game, there is a list of movie names present, out of which our interpreter will choose 1 random movie.\n",
    "The user first has to input their guesses on the besis of given clues and then, will be asked to guess any alphabet. \n",
    "If the random movie contains that alphabet, it will be shown as the output(with correct placement) else the program will ask\n",
    "you to guess another alphabet. The user will be given 6 turns and total 3 clues on wrong guess to guess\n",
    "the complete word.'''\n",
    "#requirements-\n",
    "#1. the movie list and clues like movie dialogue/actor name/no. of words in movie name\n",
    "#2. create list/dict for random selection and info related to chosen movie\n",
    "#3. regex to differentciate clues from webscrapped data\n",
    "#4. convert this data and save it in pickle formate\n",
    "#4. word analysis to match capital and small alphabate inputs to output on chosen movie to avoid errors "
   ]
  },
  {
   "cell_type": "code",
   "execution_count": 1,
   "id": "855e3275-ee7b-49f6-9f7a-7927ddace4d6",
   "metadata": {},
   "outputs": [],
   "source": [
    "import requests\n",
    "from bs4 import BeautifulSoup\n",
    "\n",
    "#website which provide movie dialogues ,names and actor information for clues\n",
    "url=\"https://entertainment.expertscolumn.com/100-greatest-dialogues-bollywood-movies\"\n",
    "\n",
    "response = requests.get(url)\n",
    "#print(response)\n",
    "\n",
    "response=response.content\n",
    "\n",
    "soup=BeautifulSoup(response,'html.parser')\n",
    "\n",
    "text_data=soup.findAll('ol')\n",
    "\n",
    "for points in soup.find_all('ol'):\n",
    "    point = str(points.text)\n",
    "    #print(point)\n",
    "\n",
    "#datatype of pint is str\n",
    "\n",
    "import re\n",
    "#regex pattern for dialogues\n",
    "pattern= '\\\\n(\\S*[^\\(]*)'\n",
    "dialg=re.findall(pattern,point)\n",
    "#dialg\n",
    "#regex pattern for three element which is movie name, actor name and year from data\n",
    "pattern_1='\\(\\w*[^\\)]*\\)'\n",
    "three_elm=re.findall(pattern_1,point)\n",
    "#three_elm\n",
    "\n",
    "#to create dictonary we need to match dialg and three_elm list for key-value pair\n",
    "#in dialg last item is empty\n",
    "#len(dialg)\n",
    "\n",
    "#removed last item \n",
    "dialg= dialg[:-1]\n",
    "\n",
    "#dict from dialg and three_elm for key-value pair\n",
    "res = dict(zip(dialg, three_elm))\n",
    "#print(res)\n",
    "\n",
    "#following movies need to delete because of extra or less dashes in data -\n",
    "#(this will helpful for future regex funtion to seperate movie name and actor names)\n",
    "\n",
    "#\"Gehne tudvao, gehne banvao, aur koriyaan khelo... so aaram se” (Sahib, Biwi aur Ghulam- Rehman- 1962)'\n",
    "#\"Phool toh murjha jaate hain, lekin kaante daman thham lete hain,\" (Mughal-e-Azam- Madhubala- 1960)'\n",
    "#“Naam Vijay Deenanath Chauhan, Baap Ka naam Deenanath Chauhan” (Agneepath- 1990)'\n",
    "#'Insan naam mein mazab dhoond leta hai ': '(A Wednesday! Naseeruddin Shah- 2008)'\n",
    "\n",
    "del res['“Naam Vijay Deenanath Chauhan, Baap Ka naam Deenanath Chauhan” ']  \n",
    "del res['\"Phool toh murjha jaate hain, lekin kaante daman thham lete hain,\" ']\n",
    "del res['\"Gehne tudvao, gehne banvao, aur koriyaan khelo... so aaram se” ']\n",
    "del res['Insan naam mein mazab dhoond leta hai ']\n",
    "del res['“Mahulle ke laundon ka pyar ... aksar doctor aur engineer uthake le jaate hai” ']\n",
    "del res['“Insaan apne liye gaye faislo se hi bada hota hai” ']\n"
   ]
  },
  {
   "cell_type": "code",
   "execution_count": 2,
   "id": "23ecaa7b-c14d-47fa-ba0c-910eaab64c54",
   "metadata": {},
   "outputs": [],
   "source": [
    "import pickle\n",
    "\n",
    "serialized = pickle.dumps(res) \n",
    "\n",
    "with open('file.pkl', 'wb') as file: \n",
    "# A new file will be created \n",
    "    pickle.dump(res, file)\n",
    "\n"
   ]
  },
  {
   "cell_type": "code",
   "execution_count": null,
   "id": "aacbce19-e378-42a0-bada-d21204df328f",
   "metadata": {},
   "outputs": [
    {
     "name": "stdout",
     "output_type": "stream",
     "text": [
      "['_', '_', '_', '_', '_', '_', '_']\n",
      "Movie Dialogue : “Dil to har kisi ke paas hota hai, lekin sab, Dilwale nahin hote” \n"
     ]
    },
    {
     "name": "stdin",
     "output_type": "stream",
     "text": [
      "Guess a letter: d\n"
     ]
    },
    {
     "name": "stdout",
     "output_type": "stream",
     "text": [
      "['D', '_', '_', '_', '_', '_', '_']\n",
      "\n",
      "        =============\n",
      "        |*|*|*|*|*|*|\n",
      "        =============\n",
      "        \n"
     ]
    },
    {
     "name": "stdin",
     "output_type": "stream",
     "text": [
      "Guess a letter: o\n"
     ]
    },
    {
     "name": "stdout",
     "output_type": "stream",
     "text": [
      "['D', '_', '_', '_', '_', '_', '_']\n",
      "words in movie name: 1\n",
      "\n",
      "        ===========\n",
      "        |*|*|*|*|*|\n",
      "        ===========\n",
      "        \n"
     ]
    },
    {
     "name": "stdin",
     "output_type": "stream",
     "text": [
      "Guess a letter: o\n"
     ]
    },
    {
     "name": "stdout",
     "output_type": "stream",
     "text": [
      "['D', '_', '_', '_', '_', '_', '_']\n",
      "year of relesed: ['2015']\n",
      "\n",
      "        =========\n",
      "        |*|*|*|*|\n",
      "        =========\n",
      "        \n"
     ]
    },
    {
     "name": "stdin",
     "output_type": "stream",
     "text": [
      "Guess a letter: o\n"
     ]
    },
    {
     "name": "stdout",
     "output_type": "stream",
     "text": [
      "['D', '_', '_', '_', '_', '_', '_']\n",
      "movie actor & year of relesed: [' Shah Rukh Khan- 2015']\n",
      "\n",
      "        =======\n",
      "        |*|*|*|\n",
      "        =======\n",
      "        \n"
     ]
    },
    {
     "name": "stdin",
     "output_type": "stream",
     "text": [
      "Guess a letter: o\n"
     ]
    },
    {
     "name": "stdout",
     "output_type": "stream",
     "text": [
      "['D', '_', '_', '_', '_', '_', '_']\n",
      "\n",
      "        =====\n",
      "        |*|*|\n",
      "        =====\n",
      "        \n"
     ]
    },
    {
     "name": "stdin",
     "output_type": "stream",
     "text": [
      "Guess a letter: o\n"
     ]
    },
    {
     "name": "stdout",
     "output_type": "stream",
     "text": [
      "['D', '_', '_', '_', '_', '_', '_']\n",
      "\n",
      "        ===\n",
      "        |*|\n",
      "        ===\n",
      "        \n"
     ]
    },
    {
     "name": "stdin",
     "output_type": "stream",
     "text": [
      "Guess a letter: o\n"
     ]
    },
    {
     "name": "stdout",
     "output_type": "stream",
     "text": [
      "['D', '_', '_', '_', '_', '_', '_']\n",
      "You Lose!!!\n",
      "Dilwale\n",
      "\n",
      "        =============\n",
      "         you loose!!! \n",
      "        =============\n",
      "        \n"
     ]
    },
    {
     "name": "stdin",
     "output_type": "stream",
     "text": [
      "play again? yes\n"
     ]
    },
    {
     "name": "stdout",
     "output_type": "stream",
     "text": [
      "['_', '_', '_', '_', '_', '_', '_', '_', '_']\n",
      "Movie Dialogue : “Pyar ka pehla kadam dosti hai, aur aakhri bhi … bus beech ke kadam reh gaye hain” \n"
     ]
    },
    {
     "name": "stdin",
     "output_type": "stream",
     "text": [
      "Guess a letter: m\n"
     ]
    },
    {
     "name": "stdout",
     "output_type": "stream",
     "text": [
      "['_', '_', '_', '_', '_', '_', '_', '_', '_']\n",
      "words in movie name: 4\n",
      "\n",
      "        ===========\n",
      "        |*|*|*|*|*|\n",
      "        ===========\n",
      "        \n"
     ]
    },
    {
     "name": "stdin",
     "output_type": "stream",
     "text": [
      "Guess a letter: i\n"
     ]
    },
    {
     "name": "stdout",
     "output_type": "stream",
     "text": [
      "['_', '_', '_', '_', '_', '_', '_', '_', '_']\n",
      "year of relesed: ['2003']\n",
      "\n",
      "        =========\n",
      "        |*|*|*|*|\n",
      "        =========\n",
      "        \n"
     ]
    },
    {
     "name": "stdin",
     "output_type": "stream",
     "text": [
      "Guess a letter: r\n"
     ]
    },
    {
     "name": "stdout",
     "output_type": "stream",
     "text": [
      "['_', '_', '_', '_', '_', '_', '_', '_', '_']\n",
      "movie actor & year of relesed: [' Saif Ali Khan- 2003']\n",
      "\n",
      "        =======\n",
      "        |*|*|*|\n",
      "        =======\n",
      "        \n"
     ]
    },
    {
     "name": "stdin",
     "output_type": "stream",
     "text": [
      "Guess a letter: a\n"
     ]
    },
    {
     "name": "stdout",
     "output_type": "stream",
     "text": [
      "['_', 'a', '_', '_', '_', '_', 'a', '_', '_']\n",
      "\n",
      "        =======\n",
      "        |*|*|*|\n",
      "        =======\n",
      "        \n"
     ]
    },
    {
     "name": "stdin",
     "output_type": "stream",
     "text": [
      "Guess a letter: e\n"
     ]
    },
    {
     "name": "stdout",
     "output_type": "stream",
     "text": [
      "['_', 'a', '_', '_', '_', '_', 'a', '_', '_']\n",
      "\n",
      "        =====\n",
      "        |*|*|\n",
      "        =====\n",
      "        \n"
     ]
    },
    {
     "name": "stdin",
     "output_type": "stream",
     "text": [
      "Guess a letter: l\n"
     ]
    },
    {
     "name": "stdout",
     "output_type": "stream",
     "text": [
      "['_', 'a', 'l', '_', '_', '_', 'a', '_', '_']\n",
      "\n",
      "        =====\n",
      "        |*|*|\n",
      "        =====\n",
      "        \n"
     ]
    },
    {
     "name": "stdin",
     "output_type": "stream",
     "text": [
      "Guess a letter: k\n"
     ]
    },
    {
     "name": "stdout",
     "output_type": "stream",
     "text": [
      "['K', 'a', 'l', '_', '_', '_', 'a', '_', '_']\n",
      "\n",
      "        =====\n",
      "        |*|*|\n",
      "        =====\n",
      "        \n"
     ]
    },
    {
     "name": "stdin",
     "output_type": "stream",
     "text": [
      "Guess a letter: h\n"
     ]
    },
    {
     "name": "stdout",
     "output_type": "stream",
     "text": [
      "['K', 'a', 'l', 'H', '_', '_', 'a', 'H', '_']\n",
      "\n",
      "        =====\n",
      "        |*|*|\n",
      "        =====\n",
      "        \n"
     ]
    },
    {
     "name": "stdin",
     "output_type": "stream",
     "text": [
      "Guess a letter: o\n"
     ]
    },
    {
     "name": "stdout",
     "output_type": "stream",
     "text": [
      "['K', 'a', 'l', 'H', 'o', '_', 'a', 'H', 'o']\n",
      "\n",
      "        =====\n",
      "        |*|*|\n",
      "        =====\n",
      "        \n"
     ]
    },
    {
     "name": "stdin",
     "output_type": "stream",
     "text": [
      "Guess a letter: n\n"
     ]
    },
    {
     "name": "stdout",
     "output_type": "stream",
     "text": [
      "['K', 'a', 'l', 'H', 'o', 'N', 'a', 'H', 'o']\n",
      "You Win!!!\n",
      "\n",
      "        =====\n",
      "        |*|*|\n",
      "        =====\n",
      "        \n"
     ]
    }
   ],
   "source": [
    "\n",
    "#this dict is ready to use for random selection\n",
    "\n",
    "def main():\n",
    "        import random\n",
    "        import itertools\n",
    "        import pickle\n",
    "        with open('file.pkl', 'rb') as file:\n",
    "            res_pkl = pickle.load(file)\n",
    "    \n",
    "        #converting random choice in list formate for indexing to get movie dialogue\n",
    "        clue_dialg=random.choice(list(res_pkl.items()))\n",
    "        #print(\"list:\",clue_dialg)\n",
    "        #print(\"movie_dialogue:\",clue_dialg[0])\n",
    "        \n",
    "        #again need to convert list(clue_dialg) to str to use regex \n",
    "        movie_p=' \\'\\((\\w*[^\\-]*)'\n",
    "        \n",
    "        choice_movie=re.findall(movie_p,str(clue_dialg))\n",
    "        # for removing any space for display error\n",
    "        s_choice_movie1=''\n",
    "        for x in choice_movie:\n",
    "            s_choice_movie1+=' '+ x\n",
    "        s_choice_movie=s_choice_movie1.replace(\" \", \"\")\n",
    "        #print(\"movie_name:\",s_choice_movie)\n",
    "        \n",
    "        #for movie words count clue\n",
    "        import shlex\n",
    "        words = shlex.split(s_choice_movie1)\n",
    "        word_count = len(words)\n",
    "        #print(\"movie_words:\",word_count)\n",
    "        \n",
    "        #for actor and year clue\n",
    "        clue_p='\\-(\\w*\\W*[^\\)]*)'\n",
    "        clue_actor_year=re.findall(clue_p,str(clue_dialg))\n",
    "        #print(\"actor&year:\",clue_actor_year)\n",
    "        \n",
    "        #for year clue\n",
    "        s = ''.join(str(i) for i in clue_actor_year)\n",
    "        s_p='\\d{4}'\n",
    "        clue_year=re.findall(s_p,s)\n",
    "        #print(\"year:\",clue_year)\n",
    "        \n",
    "        stages=['''\n",
    "        =============\n",
    "         you loose!!! \n",
    "        =============\n",
    "        ''','''\n",
    "        ===\n",
    "        |*|\n",
    "        ===\n",
    "        ''','''\n",
    "        =====\n",
    "        |*|*|\n",
    "        =====\n",
    "        ''','''\n",
    "        =======\n",
    "        |*|*|*|\n",
    "        =======\n",
    "        ''','''\n",
    "        =========\n",
    "        |*|*|*|*|\n",
    "        =========\n",
    "        ''','''\n",
    "        ===========\n",
    "        |*|*|*|*|*|\n",
    "        ===========\n",
    "        ''','''\n",
    "        =============\n",
    "        |*|*|*|*|*|*|\n",
    "        =============\n",
    "        ''']\n",
    "        \n",
    "        lives=6\n",
    "        display_ =[]\n",
    "        for i in range(len(s_choice_movie)):\n",
    "            display_ += '_'\n",
    "        print(display_)\n",
    "        \n",
    "        #movie dialogue clue\n",
    "        print('Movie Dialogue :',clue_dialg[0])\n",
    "        \n",
    "        game_over=False\n",
    "        \n",
    "        #intertools to match input in display whether its capital or small alphabate\n",
    "        while not game_over:\n",
    "            guessed_letter=input(\"Guess a letter:\")\n",
    "            x=list(map(''.join, itertools.product(*zip(guessed_letter.upper(), guessed_letter.lower()))))\n",
    "            \n",
    "            for position in range(len(s_choice_movie)):\n",
    "                letter=s_choice_movie[position]\n",
    "                if letter in x:\n",
    "                    display_[position]=letter\n",
    "            print(display_)\n",
    "            if (x[0] not in s_choice_movie) and (x[1] not in s_choice_movie):\n",
    "                lives-=1\n",
    "                if lives==5:\n",
    "                    print(\"words in movie name:\",word_count)\n",
    "                if lives==4:\n",
    "                    print(\"year of relesed:\",clue_year)\n",
    "                if lives==3:\n",
    "                    print(\"movie actor & year of relesed:\",clue_actor_year)\n",
    "                \n",
    "            if lives==0:\n",
    "                game_over=True\n",
    "                print(\"You Lose!!!\")\n",
    "                print(s_choice_movie)\n",
    "                    \n",
    "            if '_' not in display_:\n",
    "                game_over=True\n",
    "                print(\"You Win!!!\")\n",
    "                \n",
    "            print(stages[lives])\n",
    "                \n",
    "        repeat=input(\"play again?\").lower()\n",
    "        if repeat=='yes':\n",
    "            main()\n",
    "        else:\n",
    "            print(\"exit\")\n",
    "            exit()\n",
    "main()\n",
    "         "
   ]
  },
  {
   "cell_type": "code",
   "execution_count": null,
   "id": "1197f66f-32a8-46d4-9851-d8b679e38dbb",
   "metadata": {},
   "outputs": [],
   "source": []
  }
 ],
 "metadata": {
  "kernelspec": {
   "display_name": "Python 3 (ipykernel)",
   "language": "python",
   "name": "python3"
  },
  "language_info": {
   "codemirror_mode": {
    "name": "ipython",
    "version": 3
   },
   "file_extension": ".py",
   "mimetype": "text/x-python",
   "name": "python",
   "nbconvert_exporter": "python",
   "pygments_lexer": "ipython3",
   "version": "3.11.5"
  }
 },
 "nbformat": 4,
 "nbformat_minor": 5
}
